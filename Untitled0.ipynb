{
  "nbformat": 4,
  "nbformat_minor": 0,
  "metadata": {
    "colab": {
      "name": "Untitled0.ipynb",
      "provenance": [],
      "authorship_tag": "ABX9TyPThTcU2XJXNsRdr3rd4RWq",
      "include_colab_link": true
    },
    "kernelspec": {
      "name": "python3",
      "display_name": "Python 3"
    },
    "language_info": {
      "name": "python"
    }
  },
  "cells": [
    {
      "cell_type": "markdown",
      "metadata": {
        "id": "view-in-github",
        "colab_type": "text"
      },
      "source": [
        "<a href=\"https://colab.research.google.com/github/harshavardhavarma/ML12/blob/main/Untitled0.ipynb\" target=\"_parent\"><img src=\"https://colab.research.google.com/assets/colab-badge.svg\" alt=\"Open In Colab\"/></a>"
      ]
    },
    {
      "cell_type": "code",
      "metadata": {
        "id": "CoVxX6yqBij9"
      },
      "source": [
        ""
      ],
      "execution_count": null,
      "outputs": []
    },
    {
      "cell_type": "markdown",
      "metadata": {
        "id": "A0BBklFvBkHJ"
      },
      "source": [
        "hi my name is harsha and i am going to tell about adding of two numbers in python\n"
      ]
    },
    {
      "cell_type": "code",
      "metadata": {
        "colab": {
          "base_uri": "https://localhost:8080/"
        },
        "id": "C9dFCK6CBv2e",
        "outputId": "32b8dbaf-4849-4ecc-c135-1336f5ad9ec3"
      },
      "source": [
        "a=int(input(\"enter your number :\"))\n",
        "b=int(input(\"enter your number :\"))\n",
        "print(\"adition of two numbers in python is :\" ,a+b)\n"
      ],
      "execution_count": 3,
      "outputs": [
        {
          "output_type": "stream",
          "text": [
            "enter your number :3\n",
            "enter your number :4\n",
            "adition of two numbers in python is : 7\n"
          ],
          "name": "stdout"
        }
      ]
    }
  ]
}